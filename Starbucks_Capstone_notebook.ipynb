{
 "cells": [
  {
   "cell_type": "markdown",
   "metadata": {},
   "source": [
    "# Starbucks Capstone Challenge\n",
    "\n",
    "### Introduction\n",
    "\n",
    "This data set contains simulated data that mimics customer behavior on the Starbucks rewards mobile app. Once every few days, Starbucks sends out an offer to users of the mobile app. An offer can be merely an advertisement for a drink or an actual offer such as a discount or BOGO (buy one get one free). Some users might not receive any offer during certain weeks. \n",
    "\n",
    "Not all users receive the same offer, and that is the challenge to solve with this data set.\n",
    "\n",
    "Your task is to combine transaction, demographic and offer data to determine which demographic groups respond best to which offer type. This data set is a simplified version of the real Starbucks app because the underlying simulator only has one product whereas Starbucks actually sells dozens of products.\n",
    "\n",
    "Every offer has a validity period before the offer expires. As an example, a BOGO offer might be valid for only 5 days. You'll see in the data set that informational offers have a validity period even though these ads are merely providing information about a product; for example, if an informational offer has 7 days of validity, you can assume the customer is feeling the influence of the offer for 7 days after receiving the advertisement.\n",
    "\n",
    "You'll be given transactional data showing user purchases made on the app including the timestamp of purchase and the amount of money spent on a purchase. This transactional data also has a record for each offer that a user receives as well as a record for when a user actually views the offer. There are also records for when a user completes an offer. \n",
    "\n",
    "Keep in mind as well that someone using the app might make a purchase through the app without having received an offer or seen an offer.\n",
    "\n",
    "### Example\n",
    "\n",
    "To give an example, a user could receive a discount offer buy 10 dollars get 2 off on Monday. The offer is valid for 10 days from receipt. If the customer accumulates at least 10 dollars in purchases during the validity period, the customer completes the offer.\n",
    "\n",
    "However, there are a few things to watch out for in this data set. Customers do not opt into the offers that they receive; in other words, a user can receive an offer, never actually view the offer, and still complete the offer. For example, a user might receive the \"buy 10 dollars get 2 dollars off offer\", but the user never opens the offer during the 10 day validity period. The customer spends 15 dollars during those ten days. There will be an offer completion record in the data set; however, the customer was not influenced by the offer because the customer never viewed the offer.\n",
    "\n",
    "### Cleaning\n",
    "\n",
    "This makes data cleaning especially important and tricky.\n",
    "\n",
    "You'll also want to take into account that some demographic groups will make purchases even if they don't receive an offer. From a business perspective, if a customer is going to make a 10 dollar purchase without an offer anyway, you wouldn't want to send a buy 10 dollars get 2 dollars off offer. You'll want to try to assess what a certain demographic group will buy when not receiving any offers.\n",
    "\n",
    "### Final Advice\n",
    "\n",
    "Because this is a capstone project, you are free to analyze the data any way you see fit. For example, you could build a machine learning model that predicts how much someone will spend based on demographics and offer type. Or you could build a model that predicts whether or not someone will respond to an offer. Or, you don't need to build a machine learning model at all. You could develop a set of heuristics that determine what offer you should send to each customer (ie 75 percent of women customers who were 35 years old responded to offer A vs 40 percent from the same demographic to offer B, so send offer A)."
   ]
  },
  {
   "cell_type": "markdown",
   "metadata": {},
   "source": [
    "# Data Sets\n",
    "\n",
    "The data is contained in three files:\n",
    "\n",
    "* portfolio.json - containing offer ids and meta data about each offer (duration, type, etc.)\n",
    "* profile.json - demographic data for each customer\n",
    "* transcript.json - records for transactions, offers received, offers viewed, and offers completed\n",
    "\n",
    "Here is the schema and explanation of each variable in the files:\n",
    "\n",
    "**portfolio.json**\n",
    "* id (string) - offer id\n",
    "* offer_type (string) - type of offer ie BOGO, discount, informational\n",
    "* difficulty (int) - minimum required spend to complete an offer\n",
    "* reward (int) - reward given for completing an offer\n",
    "* duration (int) - \n",
    "* channels (list of strings)\n",
    "\n",
    "**profile.json**\n",
    "* age (int) - age of the customer \n",
    "* became_member_on (int) - date when customer created an app account\n",
    "* gender (str) - gender of the customer (note some entries contain 'O' for other rather than M or F)\n",
    "* id (str) - customer id\n",
    "* income (float) - customer's income\n",
    "\n",
    "**transcript.json**\n",
    "* event (str) - record description (ie transaction, offer received, offer viewed, etc.)\n",
    "* person (str) - customer id\n",
    "* time (int) - time in hours. The data begins at time t=0\n",
    "* value - (dict of strings) - either an offer id or transaction amount depending on the record\n",
    "\n",
    "**Note:** If you are using the workspace, you will need to go to the terminal and run the command `conda update pandas` before reading in the files. This is because the version of pandas in the workspace cannot read in the transcript.json file correctly, but the newest version of pandas can. You can access the termnal from the orange icon in the top left of this notebook.  \n",
    "\n",
    "You can see how to access the terminal and how the install works using the two images below.  First you need to access the terminal:\n",
    "\n",
    "<img src=\"pic1.png\"/>\n",
    "\n",
    "Then you will want to run the above command:\n",
    "\n",
    "<img src=\"pic2.png\"/>\n",
    "\n",
    "Finally, when you enter back into the notebook (use the jupyter icon again), you should be able to run the below cell without any errors."
   ]
  },
  {
   "cell_type": "code",
   "execution_count": 1,
   "metadata": {},
   "outputs": [
    {
     "name": "stderr",
     "output_type": "stream",
     "text": [
      "/Users/fengfangzhong/anaconda3/lib/python3.6/site-packages/sklearn/ensemble/weight_boosting.py:29: DeprecationWarning: numpy.core.umath_tests is an internal NumPy module and should not be imported. It will be removed in a future NumPy release.\n",
      "  from numpy.core.umath_tests import inner1d\n"
     ]
    }
   ],
   "source": [
    "import pandas as pd\n",
    "import numpy as np\n",
    "import matplotlib.pyplot as plt\n",
    "import math\n",
    "import json\n",
    "import seaborn as sns\n",
    "\n",
    "from sklearn.model_selection import train_test_split\n",
    "from sklearn.preprocessing import MinMaxScaler, scale\n",
    "from sklearn.linear_model import LinearRegression\n",
    "from sklearn.ensemble import RandomForestRegressor\n",
    "\n",
    "% matplotlib inline\n",
    "plt.style.use('fivethirtyeight')\n",
    "\n",
    "# read in the json files\n",
    "portfolio = pd.read_json('data/portfolio.json', orient='records', lines=True)\n",
    "profile = pd.read_json('data/profile.json', orient='records', lines=True)\n",
    "transcript = pd.read_json('data/transcript.json', orient='records', lines=True)"
   ]
  },
  {
   "cell_type": "markdown",
   "metadata": {},
   "source": [
    "# 0. Have Knowledge of data and Clean"
   ]
  },
  {
   "cell_type": "markdown",
   "metadata": {},
   "source": [
    "### 0.0 id dictionary"
   ]
  },
  {
   "cell_type": "code",
   "execution_count": 2,
   "metadata": {},
   "outputs": [],
   "source": [
    "def id_mapper_dict():\n",
    "    \"\"\"\n",
    "    In order to create a id dictionary\n",
    "    1.  customer_id\n",
    "    2.  offer_type_id\n",
    "    3. merge all\n",
    "    \"\"\"\n",
    "    # customer_id\n",
    "    coded_dict = dict()\n",
    "    cter = 1\n",
    "    prefix = \"C_\"\n",
    "    customer_encoded = []\n",
    "    \n",
    "    for val in profile['id']:\n",
    "        if val not in coded_dict:\n",
    "            coded_dict[val] = prefix + str(cter)\n",
    "            cter+=1\n",
    "        customer_encoded.append(coded_dict[val])\n",
    "        \n",
    "    id_dict = dict(zip(profile['id'], customer_encoded))\n",
    "    \n",
    "    # offer_type_id\n",
    "    coded_dict = dict()\n",
    "    cter = 1\n",
    "    prefix = \"F_\"\n",
    "    offer_encoded = []\n",
    "    \n",
    "    for val in portfolio['id']:\n",
    "        if val not in coded_dict:\n",
    "            coded_dict[val] = prefix + str(cter)\n",
    "            cter+=1\n",
    "        offer_encoded.append(coded_dict[val])\n",
    "    offer_id_dict = dict(zip(portfolio['id'], offer_encoded))\n",
    "    \n",
    "    # merge dictionary\n",
    "    id_dict.update(offer_id_dict)\n",
    "    \n",
    "    return id_dict\n",
    "id_dict = id_mapper_dict()"
   ]
  },
  {
   "cell_type": "markdown",
   "metadata": {},
   "source": [
    "## 0.1. Table of portfolio"
   ]
  },
  {
   "cell_type": "markdown",
   "metadata": {},
   "source": [
    "### 0.1.1. Data Assess"
   ]
  },
  {
   "cell_type": "code",
   "execution_count": 3,
   "metadata": {},
   "outputs": [
    {
     "data": {
      "text/html": [
       "<div>\n",
       "<style scoped>\n",
       "    .dataframe tbody tr th:only-of-type {\n",
       "        vertical-align: middle;\n",
       "    }\n",
       "\n",
       "    .dataframe tbody tr th {\n",
       "        vertical-align: top;\n",
       "    }\n",
       "\n",
       "    .dataframe thead th {\n",
       "        text-align: right;\n",
       "    }\n",
       "</style>\n",
       "<table border=\"1\" class=\"dataframe\">\n",
       "  <thead>\n",
       "    <tr style=\"text-align: right;\">\n",
       "      <th></th>\n",
       "      <th>channels</th>\n",
       "      <th>difficulty</th>\n",
       "      <th>duration</th>\n",
       "      <th>id</th>\n",
       "      <th>offer_type</th>\n",
       "      <th>reward</th>\n",
       "    </tr>\n",
       "  </thead>\n",
       "  <tbody>\n",
       "    <tr>\n",
       "      <th>0</th>\n",
       "      <td>[email, mobile, social]</td>\n",
       "      <td>10</td>\n",
       "      <td>7</td>\n",
       "      <td>ae264e3637204a6fb9bb56bc8210ddfd</td>\n",
       "      <td>bogo</td>\n",
       "      <td>10</td>\n",
       "    </tr>\n",
       "    <tr>\n",
       "      <th>1</th>\n",
       "      <td>[web, email, mobile, social]</td>\n",
       "      <td>10</td>\n",
       "      <td>5</td>\n",
       "      <td>4d5c57ea9a6940dd891ad53e9dbe8da0</td>\n",
       "      <td>bogo</td>\n",
       "      <td>10</td>\n",
       "    </tr>\n",
       "    <tr>\n",
       "      <th>2</th>\n",
       "      <td>[web, email, mobile]</td>\n",
       "      <td>0</td>\n",
       "      <td>4</td>\n",
       "      <td>3f207df678b143eea3cee63160fa8bed</td>\n",
       "      <td>informational</td>\n",
       "      <td>0</td>\n",
       "    </tr>\n",
       "    <tr>\n",
       "      <th>3</th>\n",
       "      <td>[web, email, mobile]</td>\n",
       "      <td>5</td>\n",
       "      <td>7</td>\n",
       "      <td>9b98b8c7a33c4b65b9aebfe6a799e6d9</td>\n",
       "      <td>bogo</td>\n",
       "      <td>5</td>\n",
       "    </tr>\n",
       "    <tr>\n",
       "      <th>4</th>\n",
       "      <td>[web, email]</td>\n",
       "      <td>20</td>\n",
       "      <td>10</td>\n",
       "      <td>0b1e1539f2cc45b7b9fa7c272da2e1d7</td>\n",
       "      <td>discount</td>\n",
       "      <td>5</td>\n",
       "    </tr>\n",
       "    <tr>\n",
       "      <th>5</th>\n",
       "      <td>[web, email, mobile, social]</td>\n",
       "      <td>7</td>\n",
       "      <td>7</td>\n",
       "      <td>2298d6c36e964ae4a3e7e9706d1fb8c2</td>\n",
       "      <td>discount</td>\n",
       "      <td>3</td>\n",
       "    </tr>\n",
       "    <tr>\n",
       "      <th>6</th>\n",
       "      <td>[web, email, mobile, social]</td>\n",
       "      <td>10</td>\n",
       "      <td>10</td>\n",
       "      <td>fafdcd668e3743c1bb461111dcafc2a4</td>\n",
       "      <td>discount</td>\n",
       "      <td>2</td>\n",
       "    </tr>\n",
       "    <tr>\n",
       "      <th>7</th>\n",
       "      <td>[email, mobile, social]</td>\n",
       "      <td>0</td>\n",
       "      <td>3</td>\n",
       "      <td>5a8bc65990b245e5a138643cd4eb9837</td>\n",
       "      <td>informational</td>\n",
       "      <td>0</td>\n",
       "    </tr>\n",
       "    <tr>\n",
       "      <th>8</th>\n",
       "      <td>[web, email, mobile, social]</td>\n",
       "      <td>5</td>\n",
       "      <td>5</td>\n",
       "      <td>f19421c1d4aa40978ebb69ca19b0e20d</td>\n",
       "      <td>bogo</td>\n",
       "      <td>5</td>\n",
       "    </tr>\n",
       "    <tr>\n",
       "      <th>9</th>\n",
       "      <td>[web, email, mobile]</td>\n",
       "      <td>10</td>\n",
       "      <td>7</td>\n",
       "      <td>2906b810c7d4411798c6938adc9daaa5</td>\n",
       "      <td>discount</td>\n",
       "      <td>2</td>\n",
       "    </tr>\n",
       "  </tbody>\n",
       "</table>\n",
       "</div>"
      ],
      "text/plain": [
       "                       channels  difficulty  duration  \\\n",
       "0       [email, mobile, social]          10         7   \n",
       "1  [web, email, mobile, social]          10         5   \n",
       "2          [web, email, mobile]           0         4   \n",
       "3          [web, email, mobile]           5         7   \n",
       "4                  [web, email]          20        10   \n",
       "5  [web, email, mobile, social]           7         7   \n",
       "6  [web, email, mobile, social]          10        10   \n",
       "7       [email, mobile, social]           0         3   \n",
       "8  [web, email, mobile, social]           5         5   \n",
       "9          [web, email, mobile]          10         7   \n",
       "\n",
       "                                 id     offer_type  reward  \n",
       "0  ae264e3637204a6fb9bb56bc8210ddfd           bogo      10  \n",
       "1  4d5c57ea9a6940dd891ad53e9dbe8da0           bogo      10  \n",
       "2  3f207df678b143eea3cee63160fa8bed  informational       0  \n",
       "3  9b98b8c7a33c4b65b9aebfe6a799e6d9           bogo       5  \n",
       "4  0b1e1539f2cc45b7b9fa7c272da2e1d7       discount       5  \n",
       "5  2298d6c36e964ae4a3e7e9706d1fb8c2       discount       3  \n",
       "6  fafdcd668e3743c1bb461111dcafc2a4       discount       2  \n",
       "7  5a8bc65990b245e5a138643cd4eb9837  informational       0  \n",
       "8  f19421c1d4aa40978ebb69ca19b0e20d           bogo       5  \n",
       "9  2906b810c7d4411798c6938adc9daaa5       discount       2  "
      ]
     },
     "execution_count": 3,
     "metadata": {},
     "output_type": "execute_result"
    }
   ],
   "source": [
    "portfolio"
   ]
  },
  {
   "cell_type": "markdown",
   "metadata": {},
   "source": [
    "**Notes:**\n",
    "\n",
    "- id: offer_type id, the primary key of the table \n",
    "- offer_type: there are 3 main and 10 sub offer types\n",
    "- difficulty: thredhold\n",
    "- reward: if accumulated consumptions over the threshold after received the offer and consuming during the valid date. "
   ]
  },
  {
   "cell_type": "markdown",
   "metadata": {},
   "source": [
    "### 0.1.2 Data Clean\n",
    "\n",
    "- To convert offer_type to unique type like (offer_type)\\_difficulty_duration_reward\n",
    "- extract channels"
   ]
  },
  {
   "cell_type": "code",
   "execution_count": 4,
   "metadata": {},
   "outputs": [],
   "source": [
    "portfolio['id'] = portfolio['id'].map(id_dict)"
   ]
  },
  {
   "cell_type": "code",
   "execution_count": 5,
   "metadata": {},
   "outputs": [],
   "source": [
    "for element in [\"web\", \"email\", \"mobile\", \"social\"]:\n",
    "    portfolio[element] = portfolio['channels'].apply(lambda x: 1 if element in x else 0)\n",
    "portfolio.drop('channels', axis=1, inplace=True)"
   ]
  },
  {
   "cell_type": "code",
   "execution_count": 6,
   "metadata": {},
   "outputs": [
    {
     "data": {
      "text/html": [
       "<div>\n",
       "<style scoped>\n",
       "    .dataframe tbody tr th:only-of-type {\n",
       "        vertical-align: middle;\n",
       "    }\n",
       "\n",
       "    .dataframe tbody tr th {\n",
       "        vertical-align: top;\n",
       "    }\n",
       "\n",
       "    .dataframe thead th {\n",
       "        text-align: right;\n",
       "    }\n",
       "</style>\n",
       "<table border=\"1\" class=\"dataframe\">\n",
       "  <thead>\n",
       "    <tr style=\"text-align: right;\">\n",
       "      <th></th>\n",
       "      <th>difficulty</th>\n",
       "      <th>duration</th>\n",
       "      <th>id</th>\n",
       "      <th>offer_type</th>\n",
       "      <th>reward</th>\n",
       "      <th>web</th>\n",
       "      <th>email</th>\n",
       "      <th>mobile</th>\n",
       "      <th>social</th>\n",
       "    </tr>\n",
       "  </thead>\n",
       "  <tbody>\n",
       "    <tr>\n",
       "      <th>0</th>\n",
       "      <td>10</td>\n",
       "      <td>7</td>\n",
       "      <td>F_1</td>\n",
       "      <td>bogo</td>\n",
       "      <td>10</td>\n",
       "      <td>0</td>\n",
       "      <td>1</td>\n",
       "      <td>1</td>\n",
       "      <td>1</td>\n",
       "    </tr>\n",
       "    <tr>\n",
       "      <th>1</th>\n",
       "      <td>10</td>\n",
       "      <td>5</td>\n",
       "      <td>F_2</td>\n",
       "      <td>bogo</td>\n",
       "      <td>10</td>\n",
       "      <td>1</td>\n",
       "      <td>1</td>\n",
       "      <td>1</td>\n",
       "      <td>1</td>\n",
       "    </tr>\n",
       "    <tr>\n",
       "      <th>2</th>\n",
       "      <td>0</td>\n",
       "      <td>4</td>\n",
       "      <td>F_3</td>\n",
       "      <td>informational</td>\n",
       "      <td>0</td>\n",
       "      <td>1</td>\n",
       "      <td>1</td>\n",
       "      <td>1</td>\n",
       "      <td>0</td>\n",
       "    </tr>\n",
       "    <tr>\n",
       "      <th>3</th>\n",
       "      <td>5</td>\n",
       "      <td>7</td>\n",
       "      <td>F_4</td>\n",
       "      <td>bogo</td>\n",
       "      <td>5</td>\n",
       "      <td>1</td>\n",
       "      <td>1</td>\n",
       "      <td>1</td>\n",
       "      <td>0</td>\n",
       "    </tr>\n",
       "    <tr>\n",
       "      <th>4</th>\n",
       "      <td>20</td>\n",
       "      <td>10</td>\n",
       "      <td>F_5</td>\n",
       "      <td>discount</td>\n",
       "      <td>5</td>\n",
       "      <td>1</td>\n",
       "      <td>1</td>\n",
       "      <td>0</td>\n",
       "      <td>0</td>\n",
       "    </tr>\n",
       "    <tr>\n",
       "      <th>5</th>\n",
       "      <td>7</td>\n",
       "      <td>7</td>\n",
       "      <td>F_6</td>\n",
       "      <td>discount</td>\n",
       "      <td>3</td>\n",
       "      <td>1</td>\n",
       "      <td>1</td>\n",
       "      <td>1</td>\n",
       "      <td>1</td>\n",
       "    </tr>\n",
       "    <tr>\n",
       "      <th>6</th>\n",
       "      <td>10</td>\n",
       "      <td>10</td>\n",
       "      <td>F_7</td>\n",
       "      <td>discount</td>\n",
       "      <td>2</td>\n",
       "      <td>1</td>\n",
       "      <td>1</td>\n",
       "      <td>1</td>\n",
       "      <td>1</td>\n",
       "    </tr>\n",
       "    <tr>\n",
       "      <th>7</th>\n",
       "      <td>0</td>\n",
       "      <td>3</td>\n",
       "      <td>F_8</td>\n",
       "      <td>informational</td>\n",
       "      <td>0</td>\n",
       "      <td>0</td>\n",
       "      <td>1</td>\n",
       "      <td>1</td>\n",
       "      <td>1</td>\n",
       "    </tr>\n",
       "    <tr>\n",
       "      <th>8</th>\n",
       "      <td>5</td>\n",
       "      <td>5</td>\n",
       "      <td>F_9</td>\n",
       "      <td>bogo</td>\n",
       "      <td>5</td>\n",
       "      <td>1</td>\n",
       "      <td>1</td>\n",
       "      <td>1</td>\n",
       "      <td>1</td>\n",
       "    </tr>\n",
       "    <tr>\n",
       "      <th>9</th>\n",
       "      <td>10</td>\n",
       "      <td>7</td>\n",
       "      <td>F_10</td>\n",
       "      <td>discount</td>\n",
       "      <td>2</td>\n",
       "      <td>1</td>\n",
       "      <td>1</td>\n",
       "      <td>1</td>\n",
       "      <td>0</td>\n",
       "    </tr>\n",
       "  </tbody>\n",
       "</table>\n",
       "</div>"
      ],
      "text/plain": [
       "   difficulty  duration    id     offer_type  reward  web  email  mobile  \\\n",
       "0          10         7   F_1           bogo      10    0      1       1   \n",
       "1          10         5   F_2           bogo      10    1      1       1   \n",
       "2           0         4   F_3  informational       0    1      1       1   \n",
       "3           5         7   F_4           bogo       5    1      1       1   \n",
       "4          20        10   F_5       discount       5    1      1       0   \n",
       "5           7         7   F_6       discount       3    1      1       1   \n",
       "6          10        10   F_7       discount       2    1      1       1   \n",
       "7           0         3   F_8  informational       0    0      1       1   \n",
       "8           5         5   F_9           bogo       5    1      1       1   \n",
       "9          10         7  F_10       discount       2    1      1       1   \n",
       "\n",
       "   social  \n",
       "0       1  \n",
       "1       1  \n",
       "2       0  \n",
       "3       0  \n",
       "4       0  \n",
       "5       1  \n",
       "6       1  \n",
       "7       1  \n",
       "8       1  \n",
       "9       0  "
      ]
     },
     "execution_count": 6,
     "metadata": {},
     "output_type": "execute_result"
    }
   ],
   "source": [
    "portfolio"
   ]
  },
  {
   "cell_type": "markdown",
   "metadata": {},
   "source": [
    "## 0.2. Table of profile"
   ]
  },
  {
   "cell_type": "markdown",
   "metadata": {},
   "source": [
    "### 0.2.1 Data Assess"
   ]
  },
  {
   "cell_type": "code",
   "execution_count": 7,
   "metadata": {},
   "outputs": [
    {
     "data": {
      "text/html": [
       "<div>\n",
       "<style scoped>\n",
       "    .dataframe tbody tr th:only-of-type {\n",
       "        vertical-align: middle;\n",
       "    }\n",
       "\n",
       "    .dataframe tbody tr th {\n",
       "        vertical-align: top;\n",
       "    }\n",
       "\n",
       "    .dataframe thead th {\n",
       "        text-align: right;\n",
       "    }\n",
       "</style>\n",
       "<table border=\"1\" class=\"dataframe\">\n",
       "  <thead>\n",
       "    <tr style=\"text-align: right;\">\n",
       "      <th></th>\n",
       "      <th>age</th>\n",
       "      <th>became_member_on</th>\n",
       "      <th>gender</th>\n",
       "      <th>id</th>\n",
       "      <th>income</th>\n",
       "    </tr>\n",
       "  </thead>\n",
       "  <tbody>\n",
       "    <tr>\n",
       "      <th>0</th>\n",
       "      <td>118</td>\n",
       "      <td>20170212</td>\n",
       "      <td>None</td>\n",
       "      <td>68be06ca386d4c31939f3a4f0e3dd783</td>\n",
       "      <td>NaN</td>\n",
       "    </tr>\n",
       "    <tr>\n",
       "      <th>1</th>\n",
       "      <td>55</td>\n",
       "      <td>20170715</td>\n",
       "      <td>F</td>\n",
       "      <td>0610b486422d4921ae7d2bf64640c50b</td>\n",
       "      <td>112000.0</td>\n",
       "    </tr>\n",
       "    <tr>\n",
       "      <th>2</th>\n",
       "      <td>118</td>\n",
       "      <td>20180712</td>\n",
       "      <td>None</td>\n",
       "      <td>38fe809add3b4fcf9315a9694bb96ff5</td>\n",
       "      <td>NaN</td>\n",
       "    </tr>\n",
       "    <tr>\n",
       "      <th>3</th>\n",
       "      <td>75</td>\n",
       "      <td>20170509</td>\n",
       "      <td>F</td>\n",
       "      <td>78afa995795e4d85b5d9ceeca43f5fef</td>\n",
       "      <td>100000.0</td>\n",
       "    </tr>\n",
       "    <tr>\n",
       "      <th>4</th>\n",
       "      <td>118</td>\n",
       "      <td>20170804</td>\n",
       "      <td>None</td>\n",
       "      <td>a03223e636434f42ac4c3df47e8bac43</td>\n",
       "      <td>NaN</td>\n",
       "    </tr>\n",
       "  </tbody>\n",
       "</table>\n",
       "</div>"
      ],
      "text/plain": [
       "   age  became_member_on gender                                id    income\n",
       "0  118          20170212   None  68be06ca386d4c31939f3a4f0e3dd783       NaN\n",
       "1   55          20170715      F  0610b486422d4921ae7d2bf64640c50b  112000.0\n",
       "2  118          20180712   None  38fe809add3b4fcf9315a9694bb96ff5       NaN\n",
       "3   75          20170509      F  78afa995795e4d85b5d9ceeca43f5fef  100000.0\n",
       "4  118          20170804   None  a03223e636434f42ac4c3df47e8bac43       NaN"
      ]
     },
     "execution_count": 7,
     "metadata": {},
     "output_type": "execute_result"
    }
   ],
   "source": [
    "profile.head()"
   ]
  },
  {
   "cell_type": "code",
   "execution_count": 8,
   "metadata": {},
   "outputs": [
    {
     "data": {
      "text/plain": [
       "(17000, 5)"
      ]
     },
     "execution_count": 8,
     "metadata": {},
     "output_type": "execute_result"
    }
   ],
   "source": [
    "profile.shape"
   ]
  },
  {
   "cell_type": "code",
   "execution_count": 9,
   "metadata": {},
   "outputs": [
    {
     "data": {
      "image/png": "[encoded data removed]",
      "text/plain": [
       "<Figure size 1080x432 with 3 Axes>"
      ]
     },
     "metadata": {
      "needs_background": "light"
     },
     "output_type": "display_data"
    }
   ],
   "source": [
    "profile.hist(figsize=(15,6), layout=(1,3));"
   ]
  },
  {
   "cell_type": "markdown",
   "metadata": {},
   "source": [
    "**Notes:**\n",
    "\n",
    "- id: customor id, primary key\n",
    "- customers who leave blank age and gender are all 118 years old.\n",
    "- age might be classified into categories as (,30],(30,45],(45,60],(60,]\n",
    "- became_member_on might be classified into (,2014],(2014,2015],(2015,2016],(2016,2017](2017,2018],(2018,]\n",
    "- income might be classifed into 5 categories."
   ]
  },
  {
   "cell_type": "markdown",
   "metadata": {},
   "source": [
    "### 0.2.2 Data Clean\n",
    "\n",
    "- delet invalid records\n",
    "- create proxies of customer rather than code"
   ]
  },
  {
   "cell_type": "code",
   "execution_count": 10,
   "metadata": {},
   "outputs": [],
   "source": [
    "# slice\n",
    "profile = profile[profile['income'].notnull()].reset_index(drop=True)\n",
    "\n",
    "# create ordinary/categorical data\n",
    "profile['age'] = pd.cut(x = profile['age'], \n",
    "                               bins = [profile['age'].min(), 30, 45, 60, 80,profile['age'].max()],\n",
    "                               labels = ['<30','31~45','46~60','61~80','>80'])\n",
    "\n",
    "profile['became_member_on'] = pd.cut(profile['became_member_on'], \n",
    "          bins=[profile['became_member_on'].min(), 20150000, 20160000,20170000, 20180000, profile['became_member_on'].max()], \n",
    "          labels = ['<2014','2014','2015','2017','2018'])\n",
    "profile = profile.rename(columns={\"became_member_on\": \"member_vintage\"})\n",
    "\n",
    "# convert id \n",
    "profile['id'] = profile['id'].map(id_dict)"
   ]
  },
  {
   "cell_type": "code",
   "execution_count": 11,
   "metadata": {},
   "outputs": [
    {
     "data": {
      "text/html": [
       "<div>\n",
       "<style scoped>\n",
       "    .dataframe tbody tr th:only-of-type {\n",
       "        vertical-align: middle;\n",
       "    }\n",
       "\n",
       "    .dataframe tbody tr th {\n",
       "        vertical-align: top;\n",
       "    }\n",
       "\n",
       "    .dataframe thead th {\n",
       "        text-align: right;\n",
       "    }\n",
       "</style>\n",
       "<table border=\"1\" class=\"dataframe\">\n",
       "  <thead>\n",
       "    <tr style=\"text-align: right;\">\n",
       "      <th></th>\n",
       "      <th>age</th>\n",
       "      <th>member_vintage</th>\n",
       "      <th>gender</th>\n",
       "      <th>id</th>\n",
       "      <th>income</th>\n",
       "    </tr>\n",
       "  </thead>\n",
       "  <tbody>\n",
       "    <tr>\n",
       "      <th>0</th>\n",
       "      <td>46~60</td>\n",
       "      <td>2017</td>\n",
       "      <td>F</td>\n",
       "      <td>C_2</td>\n",
       "      <td>112000.0</td>\n",
       "    </tr>\n",
       "    <tr>\n",
       "      <th>1</th>\n",
       "      <td>61~80</td>\n",
       "      <td>2017</td>\n",
       "      <td>F</td>\n",
       "      <td>C_4</td>\n",
       "      <td>100000.0</td>\n",
       "    </tr>\n",
       "    <tr>\n",
       "      <th>2</th>\n",
       "      <td>61~80</td>\n",
       "      <td>2018</td>\n",
       "      <td>M</td>\n",
       "      <td>C_6</td>\n",
       "      <td>70000.0</td>\n",
       "    </tr>\n",
       "    <tr>\n",
       "      <th>3</th>\n",
       "      <td>61~80</td>\n",
       "      <td>2018</td>\n",
       "      <td>M</td>\n",
       "      <td>C_9</td>\n",
       "      <td>53000.0</td>\n",
       "    </tr>\n",
       "    <tr>\n",
       "      <th>4</th>\n",
       "      <td>46~60</td>\n",
       "      <td>2017</td>\n",
       "      <td>M</td>\n",
       "      <td>C_13</td>\n",
       "      <td>51000.0</td>\n",
       "    </tr>\n",
       "  </tbody>\n",
       "</table>\n",
       "</div>"
      ],
      "text/plain": [
       "     age member_vintage gender    id    income\n",
       "0  46~60           2017      F   C_2  112000.0\n",
       "1  61~80           2017      F   C_4  100000.0\n",
       "2  61~80           2018      M   C_6   70000.0\n",
       "3  61~80           2018      M   C_9   53000.0\n",
       "4  46~60           2017      M  C_13   51000.0"
      ]
     },
     "execution_count": 11,
     "metadata": {},
     "output_type": "execute_result"
    }
   ],
   "source": [
    "profile.head()"
   ]
  },
  {
   "cell_type": "markdown",
   "metadata": {},
   "source": [
    "## 0.3. Table of transcript"
   ]
  },
  {
   "cell_type": "markdown",
   "metadata": {},
   "source": [
    "### 0.3.1 Data Assess"
   ]
  },
  {
   "cell_type": "code",
   "execution_count": 12,
   "metadata": {},
   "outputs": [
    {
     "data": {
      "text/html": [
       "<div>\n",
       "<style scoped>\n",
       "    .dataframe tbody tr th:only-of-type {\n",
       "        vertical-align: middle;\n",
       "    }\n",
       "\n",
       "    .dataframe tbody tr th {\n",
       "        vertical-align: top;\n",
       "    }\n",
       "\n",
       "    .dataframe thead th {\n",
       "        text-align: right;\n",
       "    }\n",
       "</style>\n",
       "<table border=\"1\" class=\"dataframe\">\n",
       "  <thead>\n",
       "    <tr style=\"text-align: right;\">\n",
       "      <th></th>\n",
       "      <th>event</th>\n",
       "      <th>person</th>\n",
       "      <th>time</th>\n",
       "      <th>value</th>\n",
       "    </tr>\n",
       "  </thead>\n",
       "  <tbody>\n",
       "    <tr>\n",
       "      <th>0</th>\n",
       "      <td>offer received</td>\n",
       "      <td>78afa995795e4d85b5d9ceeca43f5fef</td>\n",
       "      <td>0</td>\n",
       "      <td>{'offer id': '9b98b8c7a33c4b65b9aebfe6a799e6d9'}</td>\n",
       "    </tr>\n",
       "    <tr>\n",
       "      <th>1</th>\n",
       "      <td>offer received</td>\n",
       "      <td>a03223e636434f42ac4c3df47e8bac43</td>\n",
       "      <td>0</td>\n",
       "      <td>{'offer id': '0b1e1539f2cc45b7b9fa7c272da2e1d7'}</td>\n",
       "    </tr>\n",
       "    <tr>\n",
       "      <th>2</th>\n",
       "      <td>offer received</td>\n",
       "      <td>e2127556f4f64592b11af22de27a7932</td>\n",
       "      <td>0</td>\n",
       "      <td>{'offer id': '2906b810c7d4411798c6938adc9daaa5'}</td>\n",
       "    </tr>\n",
       "    <tr>\n",
       "      <th>3</th>\n",
       "      <td>offer received</td>\n",
       "      <td>8ec6ce2a7e7949b1bf142def7d0e0586</td>\n",
       "      <td>0</td>\n",
       "      <td>{'offer id': 'fafdcd668e3743c1bb461111dcafc2a4'}</td>\n",
       "    </tr>\n",
       "    <tr>\n",
       "      <th>4</th>\n",
       "      <td>offer received</td>\n",
       "      <td>68617ca6246f4fbc85e91a2a49552598</td>\n",
       "      <td>0</td>\n",
       "      <td>{'offer id': '4d5c57ea9a6940dd891ad53e9dbe8da0'}</td>\n",
       "    </tr>\n",
       "  </tbody>\n",
       "</table>\n",
       "</div>"
      ],
      "text/plain": [
       "            event                            person  time  \\\n",
       "0  offer received  78afa995795e4d85b5d9ceeca43f5fef     0   \n",
       "1  offer received  a03223e636434f42ac4c3df47e8bac43     0   \n",
       "2  offer received  e2127556f4f64592b11af22de27a7932     0   \n",
       "3  offer received  8ec6ce2a7e7949b1bf142def7d0e0586     0   \n",
       "4  offer received  68617ca6246f4fbc85e91a2a49552598     0   \n",
       "\n",
       "                                              value  \n",
       "0  {'offer id': '9b98b8c7a33c4b65b9aebfe6a799e6d9'}  \n",
       "1  {'offer id': '0b1e1539f2cc45b7b9fa7c272da2e1d7'}  \n",
       "2  {'offer id': '2906b810c7d4411798c6938adc9daaa5'}  \n",
       "3  {'offer id': 'fafdcd668e3743c1bb461111dcafc2a4'}  \n",
       "4  {'offer id': '4d5c57ea9a6940dd891ad53e9dbe8da0'}  "
      ]
     },
     "execution_count": 12,
     "metadata": {},
     "output_type": "execute_result"
    }
   ],
   "source": [
    "transcript.head()"
   ]
  },
  {
   "cell_type": "code",
   "execution_count": 13,
   "metadata": {},
   "outputs": [
    {
     "data": {
      "text/plain": [
       "['offer received', 'offer viewed', 'transaction', 'offer completed']"
      ]
     },
     "execution_count": 13,
     "metadata": {},
     "output_type": "execute_result"
    }
   ],
   "source": [
    "transcript['event'].unique().tolist()"
   ]
  },
  {
   "cell_type": "markdown",
   "metadata": {},
   "source": [
    "**Notes**\n",
    "\n",
    "- the designed procedure should be:  \n",
    "    - offer_received --> offer_veiwed --> transaction --> offer completed\n",
    "\n",
    "- it's better to seprete the table of transcript into 4 tables refering to 4 events .\n",
    "\n",
    "- value should be extracted from dictionary."
   ]
  },
  {
   "cell_type": "markdown",
   "metadata": {},
   "source": [
    "### 0.3.2 Data Clean\n",
    "\n",
    "- extract values from dictionary \n",
    "- transfer code of person and offer types to short labels.\n",
    "- seperate the table of transcript into 4 tables. They are offer_received, offer_viewed, offer_completed, and transcation."
   ]
  },
  {
   "cell_type": "code",
   "execution_count": 14,
   "metadata": {},
   "outputs": [],
   "source": [
    "# extract values from dictionary\n",
    "transcript['value'] = transcript['value'].apply(lambda x: list(x.values())[0])\n",
    "\n",
    "# map the columns of person and value from id_dict\n",
    "transcript['person'] = transcript['person'].map(id_dict)\n",
    "transcript.loc[transcript[\"event\"] != 'transaction',\"value\"] = transcript.loc[transcript[\"event\"] != 'transaction',\"value\"].map(id_dict)"
   ]
  },
  {
   "cell_type": "code",
   "execution_count": 15,
   "metadata": {},
   "outputs": [],
   "source": [
    "# seperate the table of transcript into 4 tables. They are offer_received, offer_viewed, offer_completed, and transcation. \n",
    "# and rename the columns respectively. \n",
    "offer_received = transcript.query(\"event == 'offer received'\").loc[:,['person','time','value']]\n",
    "offer_received.columns = ['person','received_time','received_offer']\n",
    "\n",
    "offer_viewed = transcript.query(\"event == 'offer viewed'\").loc[:,['person','time','value']]\n",
    "offer_viewed.columns = ['person','viewed_time','viewed_offer']\n",
    "\n",
    "transaction = transcript.query(\"event == 'transaction'\").loc[:, ['person','time','value']]\n",
    "transaction.columns = ['person','purchase_time','amount']\n",
    "transaction['amount'] = transaction['amount'].astype(float)\n",
    "\n",
    "offer_completed = transcript.query(\"event == 'offer completed'\").loc[:, ['person','time','value']]\n",
    "offer_completed.columns =  ['person','completed_time','completed_offer']"
   ]
  },
  {
   "cell_type": "markdown",
   "metadata": {},
   "source": [
    "## 0.4 Summary"
   ]
  },
  {
   "cell_type": "code",
   "execution_count": 16,
   "metadata": {},
   "outputs": [],
   "source": [
    "q1 = transcript['person'].nunique()\n",
    "q2 = offer_received['person'].nunique()\n",
    "q3 = q1 - q2\n",
    "q4 = offer_completed['person'].nunique()\n",
    "q5 = len(set(offer_received['person']) - set(transaction['person']))\n",
    "q6 = offer_viewed['person'].nunique()\n",
    "q7 = len(set(set(offer_received['person']) - set(offer_viewed['person'])) - set(transaction['person']))"
   ]
  },
  {
   "cell_type": "code",
   "execution_count": 17,
   "metadata": {},
   "outputs": [
    {
     "name": "stdout",
     "output_type": "stream",
     "text": [
      "\n",
      "There are 17000 customers contained in the simulated data set. Only these person who received offers and complete the offers would be awarded. \n",
      "16994 person received offers while 6 person didn't. Each person might receive several types of offer, 12774 person at least completed an offer and \n",
      "were rewarded. 422 person received offers but didn't have any consumption records. 16834 person didn't view any offers they received, however, \n",
      "only 10 person in them with no transaction records.\n",
      "\n",
      "6 person which hadn't any transaction records are out of the range of this observation.\n",
      "\n"
     ]
    }
   ],
   "source": [
    "print(\"\"\"\n",
    "There are %d customers contained in the simulated data set. Only these person who received offers and complete the offers would be awarded. \n",
    "%d person received offers while %d person didn't. Each person might receive several types of offer, %d person at least completed an offer and \n",
    "were rewarded. %d person received offers but didn't have any consumption records. %d person didn't view any offers they received, however, \n",
    "only %d person in them with no transaction records.\\n\n",
    "%d person which hadn't any transaction records are out of the range of this observation.\n",
    "\"\"\" % (q1,q2,q3,q4,q5,q6,q7,q3))"
   ]
  },
  {
   "cell_type": "markdown",
   "metadata": {},
   "source": [
    "# 1. To indentify customers who are responsive to coffee offers"
   ]
  },
  {
   "cell_type": "markdown",
   "metadata": {},
   "source": [
    "## 1.1 Criteria for response record\n",
    "\n",
    "- a customer who received the offer viewed the offer and completed the offer.\n",
    "- a customer might received offers for several times, but the offers have to be viewed and complete in time.\n",
    "- the offer type of informational is slightly different to the other offer types. There isn't a sign of completion so that we assume if any comsumption occurs after viewed during validity of date might be account for a qualified response record."
   ]
  },
  {
   "cell_type": "markdown",
   "metadata": {},
   "source": [
    "## 1.2 Create a response dataframe"
   ]
  },
  {
   "cell_type": "markdown",
   "metadata": {},
   "source": [
    "### 1.2.1 seperate bogo, discount and informational"
   ]
  },
  {
   "cell_type": "code",
   "execution_count": 18,
   "metadata": {},
   "outputs": [],
   "source": [
    "# offer_received_without_informational \n",
    "offer_bogo_discount = offer_received.query(\"not(received_offer == 'F_3' or received_offer == 'F_8')\")\n",
    "offer_informational = offer_received.query(\"received_offer == 'F_3' or received_offer == 'F_8'\")"
   ]
  },
  {
   "cell_type": "markdown",
   "metadata": {},
   "source": [
    "### 1.2.1 find response for bogo and discount offer"
   ]
  },
  {
   "cell_type": "code",
   "execution_count": 19,
   "metadata": {},
   "outputs": [],
   "source": [
    "# prepare\n",
    "response = offer_bogo_discount.merge(portfolio[['id','duration']], left_on='received_offer', right_on = 'id')\n",
    "response.drop('id', axis=1, inplace=True)\n",
    "\n",
    "# connect received offers and viewed offers\n",
    "response = response.merge(offer_viewed, left_on = ['person','received_offer'], right_on = ['person', 'viewed_offer'])\n",
    "response['isValid'] = ((response['viewed_time'] - response['received_time']) <= response['duration']) & \\\n",
    "                                ((response['viewed_time'] - response['received_time'] >= 0))\n",
    "response = response.loc[response['isValid'], :\"duration\"]\n",
    "\n",
    "# connect viewed offers and completed offers\n",
    "response = response.merge(offer_completed, left_on = ['person','received_offer'], right_on = ['person', 'completed_offer'])\n",
    "response['isValid'] = ((response['completed_time'] - response['received_time']) <= response['duration']) & \\\n",
    "                                ((response['completed_time'] - response['received_time'] >= 0))\n",
    "response = response.loc[response['isValid'], :\"received_offer\"]"
   ]
  },
  {
   "cell_type": "code",
   "execution_count": 20,
   "metadata": {},
   "outputs": [
    {
     "data": {
      "text/plain": [
       "1531"
      ]
     },
     "execution_count": 20,
     "metadata": {},
     "output_type": "execute_result"
    }
   ],
   "source": [
    "response['person'].nunique()"
   ]
  },
  {
   "cell_type": "code",
   "execution_count": 21,
   "metadata": {},
   "outputs": [
    {
     "data": {
      "text/html": [
       "<div>\n",
       "<style scoped>\n",
       "    .dataframe tbody tr th:only-of-type {\n",
       "        vertical-align: middle;\n",
       "    }\n",
       "\n",
       "    .dataframe tbody tr th {\n",
       "        vertical-align: top;\n",
       "    }\n",
       "\n",
       "    .dataframe thead th {\n",
       "        text-align: right;\n",
       "    }\n",
       "</style>\n",
       "<table border=\"1\" class=\"dataframe\">\n",
       "  <thead>\n",
       "    <tr style=\"text-align: right;\">\n",
       "      <th></th>\n",
       "      <th>person</th>\n",
       "      <th>received_time</th>\n",
       "      <th>received_offer</th>\n",
       "    </tr>\n",
       "  </thead>\n",
       "  <tbody>\n",
       "    <tr>\n",
       "      <th>2</th>\n",
       "      <td>C_175</td>\n",
       "      <td>0</td>\n",
       "      <td>F_4</td>\n",
       "    </tr>\n",
       "    <tr>\n",
       "      <th>17</th>\n",
       "      <td>C_982</td>\n",
       "      <td>168</td>\n",
       "      <td>F_4</td>\n",
       "    </tr>\n",
       "    <tr>\n",
       "      <th>28</th>\n",
       "      <td>C_2283</td>\n",
       "      <td>0</td>\n",
       "      <td>F_4</td>\n",
       "    </tr>\n",
       "    <tr>\n",
       "      <th>35</th>\n",
       "      <td>C_2611</td>\n",
       "      <td>0</td>\n",
       "      <td>F_4</td>\n",
       "    </tr>\n",
       "    <tr>\n",
       "      <th>41</th>\n",
       "      <td>C_2894</td>\n",
       "      <td>0</td>\n",
       "      <td>F_4</td>\n",
       "    </tr>\n",
       "  </tbody>\n",
       "</table>\n",
       "</div>"
      ],
      "text/plain": [
       "    person  received_time received_offer\n",
       "2    C_175              0            F_4\n",
       "17   C_982            168            F_4\n",
       "28  C_2283              0            F_4\n",
       "35  C_2611              0            F_4\n",
       "41  C_2894              0            F_4"
      ]
     },
     "execution_count": 21,
     "metadata": {},
     "output_type": "execute_result"
    }
   ],
   "source": [
    "response.head()"
   ]
  },
  {
   "cell_type": "markdown",
   "metadata": {},
   "source": [
    "### 1.2.2 find responses for informational offer"
   ]
  },
  {
   "cell_type": "code",
   "execution_count": 22,
   "metadata": {},
   "outputs": [],
   "source": [
    "# prepare\n",
    "response_info = offer_informational.merge(portfolio[['id','duration']], left_on='received_offer', right_on = 'id')\n",
    "response_info.drop('id', axis=1, inplace=True)\n",
    "\n",
    "# connect received offers and viewed offers\n",
    "response_info = response_info.merge(offer_viewed, left_on = ['person','received_offer'], right_on = ['person', 'viewed_offer'])\n",
    "response_info['isValid'] = ((response_info['viewed_time'] - response_info['received_time']) <= response_info['duration']) & \\\n",
    "                                ((response_info['viewed_time'] - response_info['received_time'] >= 0))\n",
    "response_info = response_info.loc[response_info['isValid'], :\"duration\"]\n",
    "\n",
    "# connect viewed offers and transaction records\n",
    "response_info = response_info.merge(transaction, on=\"person\")\n",
    "\n",
    "def isValid_info(response_info): # valid metric \n",
    "    if (response_info['purchase_time'] >= response_info['received_time']) & \\\n",
    "       (response_info['purchase_time'] <= (response_info['received_time'] + response_info['duration'])): \n",
    "        return True\n",
    "    else:\n",
    "        return False\n",
    "response_info['isValid'] = response_info.apply(isValid_info, axis=1)\n",
    "\n",
    "response_info = response_info[response_info['isValid']].groupby(['person','received_time','received_offer'])['amount'].sum().reset_index().loc[:,:'received_offer']"
   ]
  },
  {
   "cell_type": "markdown",
   "metadata": {},
   "source": [
    "### 1.2.3 all response records"
   ]
  },
  {
   "cell_type": "code",
   "execution_count": 23,
   "metadata": {},
   "outputs": [],
   "source": [
    "# merge \n",
    "response = pd.concat([response,response_info])"
   ]
  },
  {
   "cell_type": "markdown",
   "metadata": {},
   "source": [
    "## 1.3 Q1: What's the response rate?"
   ]
  },
  {
   "cell_type": "markdown",
   "metadata": {},
   "source": [
    "### 1.3.1 Overall"
   ]
  },
  {
   "cell_type": "code",
   "execution_count": 24,
   "metadata": {},
   "outputs": [
    {
     "data": {
      "image/png": "[encoded data removed]",
      "text/plain": [
       "<Figure size 720x360 with 1 Axes>"
      ]
     },
     "metadata": {
      "needs_background": "light"
     },
     "output_type": "display_data"
    }
   ],
   "source": [
    "# number of response\n",
    "stat_response = response.merge(portfolio[['id','offer_type','difficulty','duration','reward']], left_on='received_offer', right_on='id')\n",
    "stat_response.drop('id', axis=1, inplace=True)\n",
    "\n",
    "# number of all received offer\n",
    "stat_all = offer_received.merge(portfolio[['id','offer_type','difficulty','duration','reward']], left_on='received_offer', right_on='id')\n",
    "stat_all.drop('id', axis=1, inplace=True)\n",
    "\n",
    "# response rate\n",
    "((stat_response.groupby('offer_type').size()/stat_all.groupby('offer_type').size())*100).rename(\"response_rate\").\\\n",
    "sort_values(ascending = False).plot.bar(figsize=(10,5), rot=0, title=\"Response rate\");"
   ]
  },
  {
   "cell_type": "markdown",
   "metadata": {},
   "source": [
    "### 1.3.2 subset"
   ]
  },
  {
   "cell_type": "code",
   "execution_count": 25,
   "metadata": {},
   "outputs": [],
   "source": [
    "response_rate = (stat_response.groupby(['offer_type','difficulty','duration','reward']).size()/stat_all.groupby(['offer_type','difficulty','duration','reward']).size()*100).round(2)"
   ]
  },
  {
   "cell_type": "code",
   "execution_count": 26,
   "metadata": {},
   "outputs": [
    {
     "data": {
      "image/png": "[encoded data removed]",
      "text/plain": [
       "<Figure size 1080x360 with 3 Axes>"
      ]
     },
     "metadata": {
      "needs_background": "light"
     },
     "output_type": "display_data"
    }
   ],
   "source": [
    "fig, (ax1, ax2, ax3) = plt.subplots(ncols=3, nrows=1, figsize=(15,5))\n",
    "\n",
    "idx = pd.IndexSlice\n",
    "ax1 = response_rate.loc[idx['discount']].sort_values(ascending = False).plot.bar(title='discount', color='#bb0029', ax=ax1, rot=0,ylim=(0,6))\n",
    "ax2 = response_rate.loc[idx['bogo']].sort_values(ascending = False).plot.bar(title='bogo', color='#f5841a', ax=ax2, rot=0, sharey=True,ylim=(0,6))\n",
    "ax3 = response_rate.loc[idx['informational']].sort_values(ascending = False).plot.bar(title='informational', color='#f2e8c6', ax=ax3,rot=0,sharey=True,ylim=(0,6))"
   ]
  },
  {
   "cell_type": "markdown",
   "metadata": {},
   "source": [
    "## 1.4 Which groups of people are most responsive to each type of offer?"
   ]
  },
  {
   "cell_type": "code",
   "execution_count": 27,
   "metadata": {},
   "outputs": [],
   "source": [
    "response_person = response.drop_duplicates(subset=['person'])\n",
    "response_person = response_person.merge(profile, left_on='person', right_on = 'id')\n",
    "response_person.drop('id', axis=1, inplace=True)\n",
    "response_person = response_person.merge(portfolio[['id','offer_type']], left_on='received_offer', right_on='id')\n",
    "response_person.drop('id', axis=1, inplace=True)\n",
    "\n",
    "# convert data of income in profile as category data\n",
    "response_person['income'] = pd.cut(response_person['income'], \n",
    "          bins=[profile['income'].min(), 40000, 60000, 80000,100000, profile['income'].max()], \n",
    "          labels = ['<40k', '40k~60k', '60k~80k', '80k~100k', '>100k'])"
   ]
  },
  {
   "cell_type": "code",
   "execution_count": 28,
   "metadata": {},
   "outputs": [
    {
     "data": {
      "text/html": [
       "<div>\n",
       "<style scoped>\n",
       "    .dataframe tbody tr th:only-of-type {\n",
       "        vertical-align: middle;\n",
       "    }\n",
       "\n",
       "    .dataframe tbody tr th {\n",
       "        vertical-align: top;\n",
       "    }\n",
       "\n",
       "    .dataframe thead th {\n",
       "        text-align: right;\n",
       "    }\n",
       "</style>\n",
       "<table border=\"1\" class=\"dataframe\">\n",
       "  <thead>\n",
       "    <tr style=\"text-align: right;\">\n",
       "      <th></th>\n",
       "      <th>person</th>\n",
       "      <th>received_time</th>\n",
       "      <th>received_offer</th>\n",
       "      <th>age</th>\n",
       "      <th>member_vintage</th>\n",
       "      <th>gender</th>\n",
       "      <th>income</th>\n",
       "      <th>offer_type</th>\n",
       "    </tr>\n",
       "  </thead>\n",
       "  <tbody>\n",
       "    <tr>\n",
       "      <th>0</th>\n",
       "      <td>C_175</td>\n",
       "      <td>0</td>\n",
       "      <td>F_4</td>\n",
       "      <td>46~60</td>\n",
       "      <td>2018</td>\n",
       "      <td>M</td>\n",
       "      <td>60k~80k</td>\n",
       "      <td>bogo</td>\n",
       "    </tr>\n",
       "    <tr>\n",
       "      <th>1</th>\n",
       "      <td>C_982</td>\n",
       "      <td>168</td>\n",
       "      <td>F_4</td>\n",
       "      <td>46~60</td>\n",
       "      <td>2017</td>\n",
       "      <td>O</td>\n",
       "      <td>60k~80k</td>\n",
       "      <td>bogo</td>\n",
       "    </tr>\n",
       "    <tr>\n",
       "      <th>2</th>\n",
       "      <td>C_2283</td>\n",
       "      <td>0</td>\n",
       "      <td>F_4</td>\n",
       "      <td>46~60</td>\n",
       "      <td>2017</td>\n",
       "      <td>F</td>\n",
       "      <td>60k~80k</td>\n",
       "      <td>bogo</td>\n",
       "    </tr>\n",
       "    <tr>\n",
       "      <th>3</th>\n",
       "      <td>C_2611</td>\n",
       "      <td>0</td>\n",
       "      <td>F_4</td>\n",
       "      <td>31~45</td>\n",
       "      <td>2014</td>\n",
       "      <td>M</td>\n",
       "      <td>80k~100k</td>\n",
       "      <td>bogo</td>\n",
       "    </tr>\n",
       "    <tr>\n",
       "      <th>4</th>\n",
       "      <td>C_2894</td>\n",
       "      <td>0</td>\n",
       "      <td>F_4</td>\n",
       "      <td>46~60</td>\n",
       "      <td>2017</td>\n",
       "      <td>M</td>\n",
       "      <td>40k~60k</td>\n",
       "      <td>bogo</td>\n",
       "    </tr>\n",
       "  </tbody>\n",
       "</table>\n",
       "</div>"
      ],
      "text/plain": [
       "   person  received_time received_offer    age member_vintage gender  \\\n",
       "0   C_175              0            F_4  46~60           2018      M   \n",
       "1   C_982            168            F_4  46~60           2017      O   \n",
       "2  C_2283              0            F_4  46~60           2017      F   \n",
       "3  C_2611              0            F_4  31~45           2014      M   \n",
       "4  C_2894              0            F_4  46~60           2017      M   \n",
       "\n",
       "     income offer_type  \n",
       "0   60k~80k       bogo  \n",
       "1   60k~80k       bogo  \n",
       "2   60k~80k       bogo  \n",
       "3  80k~100k       bogo  \n",
       "4   40k~60k       bogo  "
      ]
     },
     "execution_count": 28,
     "metadata": {},
     "output_type": "execute_result"
    }
   ],
   "source": [
    "response_person.head()"
   ]
  },
  {
   "cell_type": "code",
   "execution_count": 29,
   "metadata": {},
   "outputs": [],
   "source": [
    "all_person = offer_received.drop_duplicates('person')\n",
    "all_person = all_person.merge(profile, left_on='person', right_on='id')\n",
    "all_person.drop('id', axis=1, inplace=True)\n",
    "all_person = all_person.merge(portfolio[['id','offer_type']], left_on='received_offer', right_on='id')\n",
    "all_person.drop('id', axis=1, inplace=True)\n",
    "\n",
    "# convert data of income as category data\n",
    "all_person['income'] = pd.cut(all_person['income'], \n",
    "          bins=[profile['income'].min(), 40000, 60000, 80000,100000, profile['income'].max()], \n",
    "          labels = ['<40k', '40k~60k', '60k~80k', '80k~100k', '>100k'])"
   ]
  },
  {
   "cell_type": "code",
   "execution_count": 30,
   "metadata": {},
   "outputs": [
    {
     "data": {
      "text/html": [
       "<div>\n",
       "<style scoped>\n",
       "    .dataframe tbody tr th:only-of-type {\n",
       "        vertical-align: middle;\n",
       "    }\n",
       "\n",
       "    .dataframe tbody tr th {\n",
       "        vertical-align: top;\n",
       "    }\n",
       "\n",
       "    .dataframe thead th {\n",
       "        text-align: right;\n",
       "    }\n",
       "</style>\n",
       "<table border=\"1\" class=\"dataframe\">\n",
       "  <thead>\n",
       "    <tr style=\"text-align: right;\">\n",
       "      <th></th>\n",
       "      <th>person</th>\n",
       "      <th>received_time</th>\n",
       "      <th>received_offer</th>\n",
       "      <th>age</th>\n",
       "      <th>member_vintage</th>\n",
       "      <th>gender</th>\n",
       "      <th>income</th>\n",
       "      <th>offer_type</th>\n",
       "    </tr>\n",
       "  </thead>\n",
       "  <tbody>\n",
       "    <tr>\n",
       "      <th>0</th>\n",
       "      <td>C_4</td>\n",
       "      <td>0</td>\n",
       "      <td>F_4</td>\n",
       "      <td>61~80</td>\n",
       "      <td>2017</td>\n",
       "      <td>F</td>\n",
       "      <td>80k~100k</td>\n",
       "      <td>bogo</td>\n",
       "    </tr>\n",
       "    <tr>\n",
       "      <th>1</th>\n",
       "      <td>C_30</td>\n",
       "      <td>0</td>\n",
       "      <td>F_4</td>\n",
       "      <td>46~60</td>\n",
       "      <td>2014</td>\n",
       "      <td>M</td>\n",
       "      <td>40k~60k</td>\n",
       "      <td>bogo</td>\n",
       "    </tr>\n",
       "    <tr>\n",
       "      <th>2</th>\n",
       "      <td>C_35</td>\n",
       "      <td>0</td>\n",
       "      <td>F_4</td>\n",
       "      <td>31~45</td>\n",
       "      <td>2015</td>\n",
       "      <td>M</td>\n",
       "      <td>&lt;40k</td>\n",
       "      <td>bogo</td>\n",
       "    </tr>\n",
       "    <tr>\n",
       "      <th>3</th>\n",
       "      <td>C_43</td>\n",
       "      <td>0</td>\n",
       "      <td>F_4</td>\n",
       "      <td>31~45</td>\n",
       "      <td>2018</td>\n",
       "      <td>M</td>\n",
       "      <td>&lt;40k</td>\n",
       "      <td>bogo</td>\n",
       "    </tr>\n",
       "    <tr>\n",
       "      <th>4</th>\n",
       "      <td>C_48</td>\n",
       "      <td>0</td>\n",
       "      <td>F_4</td>\n",
       "      <td>46~60</td>\n",
       "      <td>2017</td>\n",
       "      <td>F</td>\n",
       "      <td>60k~80k</td>\n",
       "      <td>bogo</td>\n",
       "    </tr>\n",
       "  </tbody>\n",
       "</table>\n",
       "</div>"
      ],
      "text/plain": [
       "  person  received_time received_offer    age member_vintage gender    income  \\\n",
       "0    C_4              0            F_4  61~80           2017      F  80k~100k   \n",
       "1   C_30              0            F_4  46~60           2014      M   40k~60k   \n",
       "2   C_35              0            F_4  31~45           2015      M      <40k   \n",
       "3   C_43              0            F_4  31~45           2018      M      <40k   \n",
       "4   C_48              0            F_4  46~60           2017      F   60k~80k   \n",
       "\n",
       "  offer_type  \n",
       "0       bogo  \n",
       "1       bogo  \n",
       "2       bogo  \n",
       "3       bogo  \n",
       "4       bogo  "
      ]
     },
     "execution_count": 30,
     "metadata": {},
     "output_type": "execute_result"
    }
   ],
   "source": [
    "all_person.head()"
   ]
  },
  {
   "cell_type": "code",
   "execution_count": 31,
   "metadata": {},
   "outputs": [],
   "source": [
    "def profile_plot(key):\n",
    "    underlying = response_person.groupby(['offer_type', key])['person'].count().groupby(level=0).apply(lambda x: x/x.sum() * 100).round(2)\n",
    "    overall = all_person.groupby(['offer_type',key])['person'].count().groupby(level=0).apply(lambda x: x/x.sum() * 100).round(2)\n",
    "    \n",
    "    profile_invest = pd.DataFrame(underlying.rename('Response')).join(overall.rename('Overall'))\n",
    "    \n",
    "    fig, (ax1,ax2,ax3) = plt.subplots(ncols=3, nrows=1, figsize=(15,5))\n",
    "    idx = pd.IndexSlice\n",
    "    \n",
    "    y_limit = round(profile_invest.max().max())+1\n",
    "    profile_invest .loc[idx['discount']].plot.bar(title=\"discount\",ax=ax1, rot=0, ylim=(0,y_limit))\n",
    "    profile_invest .loc[idx['bogo']].plot.bar(title=\"bogo\",ax=ax2, rot=0,legend=False,ylim=(0, y_limit))\n",
    "    profile_invest .loc[idx['informational']].plot.bar(title=\"informational\",ax=ax3,rot=0, legend=False,ylim=(0,y_limit));\n",
    "    plt.show()"
   ]
  },
  {
   "cell_type": "code",
   "execution_count": 32,
   "metadata": {},
   "outputs": [],
   "source": [
    "def profile_plot_1(key):\n",
    "    underlying = response_person.groupby(['offer_type', key])['person'].count()\n",
    "    overall = all_person.groupby(['offer_type',key])['person'].count()\n",
    "    \n",
    "    profile_invest = ((underlying/overall)*100).rename(\"response_rate\")\n",
    "    \n",
    "    fig, (ax1,ax2,ax3) = plt.subplots(ncols=3, nrows=1, figsize=(15,5))\n",
    "    idx = pd.IndexSlice\n",
    "    \n",
    "    y_limit = round(profile_invest.max().max())+1\n",
    "    profile_invest .loc[idx['discount']].plot.bar(title=\"discount\",ax=ax1, rot=0, ylim=(0,y_limit), legend=True)\n",
    "    profile_invest .loc[idx['bogo']].plot.bar(title=\"bogo\",ax=ax2, rot=0,legend=False,ylim=(0, y_limit))\n",
    "    profile_invest .loc[idx['informational']].plot.bar(title=\"informational\",ax=ax3,rot=0, legend=False,ylim=(0,y_limit));\n",
    "    plt.show()"
   ]
  },
  {
   "cell_type": "markdown",
   "metadata": {},
   "source": [
    "### 1.4.1 age"
   ]
  },
  {
   "cell_type": "code",
   "execution_count": 33,
   "metadata": {},
   "outputs": [
    {
     "data": {
      "image/png": "[encoded data removed]",
      "text/plain": [
       "<Figure size 1080x360 with 3 Axes>"
      ]
     },
     "metadata": {
      "needs_background": "light"
     },
     "output_type": "display_data"
    }
   ],
   "source": [
    "profile_plot('age')"
   ]
  },
  {
   "cell_type": "code",
   "execution_count": 34,
   "metadata": {},
   "outputs": [
    {
     "data": {
      "image/png": "[encoded data removed]",
      "text/plain": [
       "<Figure size 1080x360 with 3 Axes>"
      ]
     },
     "metadata": {
      "needs_background": "light"
     },
     "output_type": "display_data"
    }
   ],
   "source": [
    "profile_plot_1('age')"
   ]
  },
  {
   "cell_type": "markdown",
   "metadata": {},
   "source": [
    "### 1.4.2 member vintage"
   ]
  },
  {
   "cell_type": "code",
   "execution_count": 35,
   "metadata": {},
   "outputs": [
    {
     "data": {
      "image/png": "[encoded data removed]",
      "text/plain": [
       "<Figure size 1080x360 with 3 Axes>"
      ]
     },
     "metadata": {
      "needs_background": "light"
     },
     "output_type": "display_data"
    }
   ],
   "source": [
    "profile_plot('member_vintage')"
   ]
  },
  {
   "cell_type": "code",
   "execution_count": 36,
   "metadata": {},
   "outputs": [
    {
     "data": {
      "image/png": "[encoded data removed]",
      "text/plain": [
       "<Figure size 1080x360 with 3 Axes>"
      ]
     },
     "metadata": {
      "needs_background": "light"
     },
     "output_type": "display_data"
    }
   ],
   "source": [
    "profile_plot_1('member_vintage')"
   ]
  },
  {
   "cell_type": "markdown",
   "metadata": {},
   "source": [
    "### 1.4.3 income"
   ]
  },
  {
   "cell_type": "code",
   "execution_count": 37,
   "metadata": {},
   "outputs": [
    {
     "data": {
      "image/png": "[encoded data removed]",
      "text/plain": [
       "<Figure size 1080x360 with 3 Axes>"
      ]
     },
     "metadata": {
      "needs_background": "light"
     },
     "output_type": "display_data"
    }
   ],
   "source": [
    "profile_plot('income')"
   ]
  },
  {
   "cell_type": "code",
   "execution_count": 38,
   "metadata": {},
   "outputs": [
    {
     "data": {
      "image/png": "[encoded data removed]",
      "text/plain": [
       "<Figure size 1080x360 with 3 Axes>"
      ]
     },
     "metadata": {
      "needs_background": "light"
     },
     "output_type": "display_data"
    }
   ],
   "source": [
    "profile_plot_1('income')"
   ]
  },
  {
   "cell_type": "markdown",
   "metadata": {},
   "source": [
    "# 2. How much someone will spend based on demographics and offer types?"
   ]
  },
  {
   "cell_type": "markdown",
   "metadata": {},
   "source": [
    "## 2.1 Data Preparation \n",
    "\n",
    "- exogenous variable: average amount of purchases\n",
    "- endogenous variable: including factors of the profiles and offer types and we should know if the customer is responsive to what types of offers. "
   ]
  },
  {
   "cell_type": "markdown",
   "metadata": {},
   "source": [
    "### 2.1.1 data set"
   ]
  },
  {
   "cell_type": "code",
   "execution_count": 39,
   "metadata": {},
   "outputs": [],
   "source": [
    "# merge proflle and response in order to know who is responsive to coffee offers\n",
    "df = profile.merge(response[['person','received_offer']], left_on='id', right_on='person', how='left')\n",
    "df.drop('person', axis=1, inplace=True)\n",
    "\n",
    "# join average transaction data to proflie  \n",
    "df = df.set_index('id').join(transaction.groupby('person')['amount'].mean(), how=\"inner\")\n",
    "\n",
    "# drop those customers who didn't receive any coffee offers\n",
    "exclude_ind = np.array(list(set(transaction['person'])-set(offer_received['person'])))\n",
    "df = df.iloc[np.where(np.logical_not(np.isin(df.index.values, exclude_ind)))[0]]"
   ]
  },
  {
   "cell_type": "markdown",
   "metadata": {},
   "source": [
    "### 2.1.2 outliers"
   ]
  },
  {
   "cell_type": "code",
   "execution_count": 40,
   "metadata": {},
   "outputs": [
    {
     "data": {
      "image/png": "[encoded data removed]",
      "text/plain": [
       "<Figure size 432x288 with 1 Axes>"
      ]
     },
     "metadata": {
      "needs_background": "light"
     },
     "output_type": "display_data"
    }
   ],
   "source": [
    "sns.boxplot(x='amount',data=df);"
   ]
  },
  {
   "cell_type": "code",
   "execution_count": 41,
   "metadata": {},
   "outputs": [],
   "source": [
    "# identify outliers\n",
    "IQR = df['amount'].quantile(0.75) - df['amount'].quantile(0.25)\n",
    "outlier = df['amount'].quantile(0.75) + 1.5 * IQR \n",
    "\n",
    "# eliminate outliers\n",
    "df = df[(df['amount'] < outlier) & (df['amount'] > 0)]"
   ]
  },
  {
   "cell_type": "code",
   "execution_count": 42,
   "metadata": {},
   "outputs": [
    {
     "data": {
      "image/png": "[encoded data removed]",
      "text/plain": [
       "<Figure size 432x288 with 1 Axes>"
      ]
     },
     "metadata": {
      "needs_background": "light"
     },
     "output_type": "display_data"
    }
   ],
   "source": [
    "sns.boxplot(x='amount',data=df);"
   ]
  },
  {
   "cell_type": "code",
   "execution_count": 43,
   "metadata": {},
   "outputs": [
    {
     "data": {
      "text/plain": [
       "<matplotlib.axes._subplots.AxesSubplot at 0x1a1cdc6b70>"
      ]
     },
     "execution_count": 43,
     "metadata": {},
     "output_type": "execute_result"
    },
    {
     "data": {
      "image/png": "[encoded data removed]",
      "text/plain": [
       "<Figure size 432x288 with 1 Axes>"
      ]
     },
     "metadata": {
      "needs_background": "light"
     },
     "output_type": "display_data"
    }
   ],
   "source": [
    "df['amount'].hist(bins=10) "
   ]
  },
  {
   "cell_type": "markdown",
   "metadata": {},
   "source": [
    "### 2.1.3 transfer categories to dummy variable, and normalize"
   ]
  },
  {
   "cell_type": "code",
   "execution_count": 44,
   "metadata": {},
   "outputs": [],
   "source": [
    "# dummy variables\n",
    "df = pd.get_dummies(df)\n",
    "\n",
    "# normalize scalar\n",
    "scalar = MinMaxScaler(copy=True, feature_range=(0, 1)).fit(df)\n",
    "scaled_df = scalar.transform(df)"
   ]
  },
  {
   "cell_type": "markdown",
   "metadata": {},
   "source": [
    "### 2.1.4 split train and test"
   ]
  },
  {
   "cell_type": "code",
   "execution_count": 45,
   "metadata": {},
   "outputs": [],
   "source": [
    "y = scaled_df[:,1]\n",
    "X = np.delete(scaled_df,1,1)\n",
    "X_train, X_test, y_train, y_test = train_test_split(X,y)"
   ]
  },
  {
   "cell_type": "markdown",
   "metadata": {},
   "source": [
    "## 2.2 modeling"
   ]
  },
  {
   "cell_type": "markdown",
   "metadata": {},
   "source": [
    "### 2.2.1 Linear regression model"
   ]
  },
  {
   "cell_type": "markdown",
   "metadata": {},
   "source": [
    "#### 2.2.1.1 model fitting"
   ]
  },
  {
   "cell_type": "code",
   "execution_count": 46,
   "metadata": {},
   "outputs": [],
   "source": [
    "# model fit\n",
    "reg = LinearRegression(normalize=True,fit_intercept=False)\n",
    "reg = reg.fit(X_train, y_train)\n",
    "print(' train score: %.4f \\n test score:  %.4f ' %(reg.score(X_train, y_train),reg.score(X_test, y_test)))"
   ]
  },
  {
   "cell_type": "markdown",
   "metadata": {},
   "source": [
    "#### 2.2.2.2 weithting explanation\n",
    "\n"
   ]
  },
  {
   "cell_type": "code",
   "execution_count": null,
   "metadata": {},
   "outputs": [],
   "source": [
    "betas = pd.Series(reg.coef_, index=(np.delete(df.columns.values,1))).astype(float)"
   ]
  },
  {
   "cell_type": "code",
   "execution_count": 49,
   "metadata": {},
   "outputs": [
    {
     "data": {
      "text/plain": [
       "income                  0.544967\n",
       "age_<30                -0.006410\n",
       "age_31~45               0.023346\n",
       "age_46~60               0.049113\n",
       "age_61~80               0.051691\n",
       "age_>80                 0.040210\n",
       "member_vintage_<2014    0.173411\n",
       "member_vintage_2014     0.230578\n",
       "member_vintage_2015     0.252679\n",
       "member_vintage_2017     0.230337\n",
       "member_vintage_2018     0.202524\n",
       "gender_F               -0.166991\n",
       "gender_M               -0.211852\n",
       "gender_O               -0.175019\n",
       "received_offer_F_1      0.057067\n",
       "received_offer_F_10     0.046247\n",
       "received_offer_F_2      0.046322\n",
       "received_offer_F_3      0.029279\n",
       "received_offer_F_4      0.063795\n",
       "received_offer_F_5      0.025569\n",
       "received_offer_F_6      0.039519\n",
       "received_offer_F_7      0.050307\n",
       "received_offer_F_8      0.002869\n",
       "received_offer_F_9      0.040510\n",
       "dtype: float64"
      ]
     },
     "execution_count": 49,
     "metadata": {},
     "output_type": "execute_result"
    }
   ],
   "source": [
    "betas"
   ]
  },
  {
   "cell_type": "code",
   "execution_count": 50,
   "metadata": {},
   "outputs": [],
   "source": [
    "def split_betas(key):\n",
    "    \n",
    "    factor = betas[[key.split(\"_\")[0] in ind.split('_') for ind in betas.index]]\n",
    "    factor.index = factor.index.str.split(\"_\").str[-1]\n",
    "    return factor.rename(key)"
   ]
  },
  {
   "cell_type": "code",
   "execution_count": 52,
   "metadata": {},
   "outputs": [
    {
     "data": {
      "image/png": "[encoded data removed]",
      "text/plain": [
       "<Figure size 1080x360 with 3 Axes>"
      ]
     },
     "metadata": {
      "needs_background": "light"
     },
     "output_type": "display_data"
    }
   ],
   "source": [
    "# age, member_vintage, gender ploting\n",
    "betas_age =  split_betas('age')\n",
    "betas_member_vintage = split_betas('member_vintage')\n",
    "betas_gender = split_betas('gender')\n",
    "\n",
    "fig, (ax1,ax2,ax3) = plt.subplots(ncols=3, nrows=1, figsize=(15,5))\n",
    "ax1 = betas_age.plot.bar(title='age',ax=ax1, rot=0, legend=False)\n",
    "ax2 = betas_member_vintage.plot.bar(title = 'member_vintage',ax=ax2, rot=0, legend=False)\n",
    "ax3 = betas_gender.plot.bar(title = 'gender',ax=ax3,rot=0, legend=False)"
   ]
  },
  {
   "cell_type": "code",
   "execution_count": 55,
   "metadata": {
    "scrolled": true
   },
   "outputs": [
    {
     "data": {
      "image/png": "[encoded data removed]",
      "text/plain": [
       "<Figure size 1080x360 with 3 Axes>"
      ]
     },
     "metadata": {
      "needs_background": "light"
     },
     "output_type": "display_data"
    }
   ],
   "source": [
    "# offer type ploting\n",
    "betas_offer = split_betas('offer')\n",
    "betas_offer.index =  betas_offer.index.astype(int) - 1\n",
    "betas_offer = pd.DataFrame(betas_offer).join(portfolio[['offer_type', 'difficulty','duration','reward']])\n",
    "betas_offer = betas_offer.groupby(['offer_type', 'difficulty','duration','reward'])['offer'].sum()\n",
    "\n",
    "fig, (ax1, ax2, ax3) = plt.subplots(ncols=3, nrows=1, figsize=(15,5))\n",
    "\n",
    "idx = pd.IndexSlice\n",
    "ax1 = betas_offer.loc[idx['discount']].sort_values(ascending = False).plot.bar(title='discount', color='#bb0029', ax=ax1, rot=0)\n",
    "ax2 = betas_offer.loc[idx['bogo']].sort_values(ascending = False).plot.bar(title='bogo', color='#f5841a', ax=ax2, rot=0)\n",
    "ax3 = betas_offer.loc[idx['informational']].sort_values(ascending = False).plot.bar(title='informational', color='#f2e8c6', ax=ax3,rot=0)"
   ]
  },
  {
   "cell_type": "markdown",
   "metadata": {},
   "source": [
    "### 2.2.2 Random Forest model"
   ]
  },
  {
   "cell_type": "code",
   "execution_count": 56,
   "metadata": {},
   "outputs": [
    {
     "data": {
      "text/plain": [
       "RandomForestRegressor(bootstrap=True, criterion='mse', max_depth=7,\n",
       "           max_features='auto', max_leaf_nodes=None,\n",
       "           min_impurity_decrease=0.0, min_impurity_split=None,\n",
       "           min_samples_leaf=1, min_samples_split=2,\n",
       "           min_weight_fraction_leaf=0.0, n_estimators=10, n_jobs=1,\n",
       "           oob_score=False, random_state=None, verbose=0, warm_start=False)"
      ]
     },
     "execution_count": 56,
     "metadata": {},
     "output_type": "execute_result"
    }
   ],
   "source": [
    "regr = RandomForestRegressor(max_depth=7)\n",
    "regr.fit(X_train,y_train)"
   ]
  },
  {
   "cell_type": "code",
   "execution_count": 57,
   "metadata": {},
   "outputs": [
    {
     "name": "stdout",
     "output_type": "stream",
     "text": [
      " train score: 0.6895 \n",
      " test score:  0.6558 \n"
     ]
    }
   ],
   "source": [
    "print(' train score: %.4f \\n test score:  %.4f ' %(regr.score(X_train, y_train),regr.score(X_test, y_test)))"
   ]
  },
  {
   "cell_type": "code",
   "execution_count": 58,
   "metadata": {},
   "outputs": [
    {
     "data": {
      "text/plain": [
       "<matplotlib.axes._subplots.AxesSubplot at 0x1a1cb468d0>"
      ]
     },
     "execution_count": 58,
     "metadata": {},
     "output_type": "execute_result"
    },
    {
     "data": {
      "image/png": "[encoded data removed]",
      "text/plain": [
       "<Figure size 360x720 with 1 Axes>"
      ]
     },
     "metadata": {
      "needs_background": "light"
     },
     "output_type": "display_data"
    }
   ],
   "source": [
    "feature_importance =  pd.Series(regr.feature_importances_, index=(np.delete(df.columns.values,1))).astype(float)\n",
    "feature_importance[1:].sort_values().plot.barh(figsize=(5,10))"
   ]
  },
  {
   "cell_type": "markdown",
   "metadata": {},
   "source": [
    "## 2.3 Summary"
   ]
  },
  {
   "cell_type": "code",
   "execution_count": null,
   "metadata": {},
   "outputs": [],
   "source": []
  }
 ],
 "metadata": {
  "kernelspec": {
   "display_name": "Python 3",
   "language": "python",
   "name": "python3"
  },
  "language_info": {
   "codemirror_mode": {
    "name": "ipython",
    "version": 3
   },
   "file_extension": ".py",
   "mimetype": "text/x-python",
   "name": "python",
   "nbconvert_exporter": "python",
   "pygments_lexer": "ipython3",
   "version": "3.6.6"
  }
 },
 "nbformat": 4,
 "nbformat_minor": 2
}
